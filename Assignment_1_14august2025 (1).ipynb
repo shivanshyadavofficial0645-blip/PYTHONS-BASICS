{
  "nbformat": 4,
  "nbformat_minor": 0,
  "metadata": {
    "colab": {
      "private_outputs": true,
      "provenance": []
    },
    "kernelspec": {
      "name": "python3",
      "display_name": "Python 3"
    },
    "language_info": {
      "name": "python"
    }
  },
  "cells": [
    {
      "cell_type": "markdown",
      "source": [
        "# **Python Basics Questions**"
      ],
      "metadata": {
        "id": "V23L-ffZx7Zx"
      }
    },
    {
      "cell_type": "markdown",
      "source": [
        "1. What is Python, and why is it popular?\n",
        "\n",
        "It is a high level interpreted prgramming lanuguage known for its readability and versatality.\n",
        "\n",
        "In simple words we can say that it helps to communicate (give instructions/commands to computers) with computers by coverting high level language into low level language which is understood by computers.\n",
        "\n",
        "*   Invented by \"GUIDO VAN ROSSOM\" in 1991.\n",
        "\n",
        "***REASONS FOR IT'S POPULARITY***:-\n",
        "\n",
        "\n",
        "*   Easy to learn, read & write almost like a simple language.\n",
        "*   Versatile in nature, can be used to create- websites, web-development, data analysis, AI etc.\n",
        "*   Availability of liabraries- lots of liabraries are present, which contains ready to use codes, you don't have to write codes from scratch.\n",
        "*   Many users available to help you out, if you get stuck.\n",
        "\n",
        "\n",
        "\n",
        "\n",
        "\n",
        "\n",
        "\n"
      ],
      "metadata": {
        "id": "ul0ujEqNyD6g"
      }
    },
    {
      "cell_type": "markdown",
      "source": [
        "2. What is an interpreter in Python?\n",
        "\n",
        "it is like a translator that reads the python code line by line and converts it into machine language (low level language) that is understood by the machine, unlike compiler which coverts whole code at once.\n",
        "\n",
        "\n",
        "*   Reads python line by line\n",
        "*   Finds error line by line not at once\n",
        "\n",
        "\n",
        "\n"
      ],
      "metadata": {
        "id": "Pi88CZgMyJtF"
      }
    },
    {
      "cell_type": "markdown",
      "source": [
        "3.  What are pre-defined keywords in Python?\n",
        "\n",
        "They are special words used in python programming language that have specific meaning and specific purpose. They can't be used as variables. Unlike functions you can't modify their purpose of usage.\n",
        "\n",
        "examples-\n",
        "\n",
        "*  if - used for conditional statements.\n",
        "*  while & for - used for loop statements.\n",
        "*  True & False - used for correct and wrong statemnts.\n",
        "*  def - used for defining a function.\n",
        "\n",
        "\n",
        "\n",
        "\n"
      ],
      "metadata": {
        "id": "3jOPKX3KyO2G"
      }
    },
    {
      "cell_type": "markdown",
      "source": [
        "4. Can keywords be used as variable names?\n",
        "\n",
        "No, we can't used keywords as variable because the have specific meaning and purpose, an error will be shown if you try to do that."
      ],
      "metadata": {
        "id": "B9QDY5XHySts"
      }
    },
    {
      "cell_type": "markdown",
      "source": [
        "5. What is mutability in Python?\n",
        "\n",
        "Mutability means modifying the data (elements) of data containers if possible.\n",
        "\n",
        "Mutable data containers:\n",
        "\n",
        "*  List\n",
        "*  dictionary\n",
        "*  sets\n",
        "*  bytearray\n",
        "\n",
        "\n",
        "\n"
      ],
      "metadata": {
        "id": "1Hw56deIyYq9"
      }
    },
    {
      "cell_type": "markdown",
      "source": [
        "6. Why are lists mutable, but tuples are immutable?\n",
        "\n",
        "\n",
        "\n",
        "*  Lists-  they are mutable because it is stored by python in memory block in such a way that you can access, add, remove, modify data present in it.\n",
        "\n",
        "\n",
        "*   Tuples-  they are immutable because they are stored by python in memmory block in such a way that you can only have accesss to data but you can't modify it like list.\n",
        "\n",
        "\n",
        "\n",
        "\n"
      ],
      "metadata": {
        "id": "eOarwkUkyb6Q"
      }
    },
    {
      "cell_type": "markdown",
      "source": [
        "7.  What is the difference between “==” and “is” operators in Python?\n",
        "\n",
        "\n",
        "\n",
        "*  \"==\" it is a type of comparison operator that is used to compare two values or variables. It represents \"is eual to\".\n",
        "\n",
        "*  \"is\" it is a type of identity operators that compares whether two value/variable are same or different based on their memory address.\n",
        "\n"
      ],
      "metadata": {
        "id": "1Wof393hyfc1"
      }
    },
    {
      "cell_type": "markdown",
      "source": [
        "8. What are logical operators in Python?\n",
        "\n",
        "They are a type of operators that helps to add logic/condition in the statements or code. They always give output as True/False (boolean value)\n",
        "\n",
        "Types of logical operators:-\n",
        "\n",
        "\n",
        "*  \"and\" - give output \"True\" if both conditions are satisfied\n",
        "\n",
        "\n",
        "```\n",
        "a=10\n",
        "b=12\n",
        "print( a>5 and b<20)\n",
        "\n",
        "result= True (as both conditions are satisfied.)\n",
        "```\n",
        "\n",
        "\n",
        "\n",
        "\n",
        "\n",
        "*  \"or\" - give output \"True\" if anyone of the condition is satisfied.\n",
        "\n",
        "\n",
        "```\n",
        "a=4\n",
        "b=6\n",
        "print(a>5 and b>5)\n",
        "\n",
        "result= True (as one of the condition b>5 is satisfied)\n",
        "\n",
        "```\n",
        "\n",
        "\n",
        "*  \"not\" - it provides opposite result, if the condition is satisfied it gives output \"false\" vice-versa.\n",
        "\n",
        "```\n",
        "a=5\n",
        "print(not(a>1))\n",
        "\n",
        "result= False  (although the condition is satisfied, output is opposite)\n",
        "\n",
        "\n",
        "\n",
        "\n",
        "\n"
      ],
      "metadata": {
        "id": "43QBfKuvyjxq"
      }
    },
    {
      "cell_type": "markdown",
      "source": [
        "9. What is type casting in Python?\n",
        "\n",
        "Type casting is thwe method of changing the data type of a variable/data, from one data type to another as operations can be performed on data of same data type.\n",
        "\n",
        "it can be done by python automatically or manually by us, using functions like int(),bool(),float()etc\n",
        "\n"
      ],
      "metadata": {
        "id": "NGIi_88lyms6"
      }
    },
    {
      "cell_type": "markdown",
      "source": [
        "10.  What is the difference between implicit and explicit type casting?\n",
        "\n",
        "\n",
        "\n",
        "\n",
        "*   Implicit - when python automatically changes the data type of a data to perform a operations.\n",
        "\n",
        "```\n",
        "a=1\n",
        "b=2.2\n",
        "print(a+b)\n",
        "\n",
        "    result= 3.3    (here you don't have to change data type manually, python does it by itself.)\n",
        "```    \n",
        "\n",
        "\n",
        "\n",
        "\n",
        "\n",
        "*   Explicit - when we use functions like int(), bool(), float() etc. to change data type of a data to perform operations.\n",
        "\n",
        "```\n",
        "a=2\n",
        "b=1.3\n",
        "print(a*b)\n",
        "\n",
        "   result=2.6\n",
        "\n",
        "suppose you want result as integer than you have to change data type of b using int() as it is float.\n",
        "\n",
        "a=2\n",
        "b=int(1.3) ~ 1\n",
        "print(a*b)\n",
        "\n",
        "   result= 2  here the result will be int. and here you manually changes the data type of b.\n",
        "```\n",
        "\n"
      ],
      "metadata": {
        "id": "8Iyn7GjIyqZ7"
      }
    },
    {
      "cell_type": "markdown",
      "source": [
        "11. What is the purpose of conditional statements in Python?\n",
        "\n",
        "Conditional statements are used to make decision/run different codes based on some pre-conditions.\n",
        "\n",
        "Different codes are executed based on whether they are fullfilling the condition or not.\n",
        "\n",
        "EG-\n",
        "\n",
        "*  if\n",
        "*  if-else\n",
        "*  if-elif-else\n",
        "*  nested if-else\n",
        "\n",
        "age = 18\n",
        "```\n",
        "if age >= 18:\n",
        "    print(\"You can vote\")\n",
        "else:\n",
        "    print(\"You cannot vote\")   \n",
        "\n",
        "#here condition is age should be >=18,\n",
        " if this condition is satisfied by the \"age\" variable than,\n",
        " body of if will be executed otherwise body of else will be executed.    \n",
        "\n",
        "```\n",
        "\n",
        "\n",
        "\n"
      ],
      "metadata": {
        "id": "e2cDfSrtyuyZ"
      }
    },
    {
      "cell_type": "markdown",
      "source": [
        "12. How does the elif statement work?\n",
        "  \n",
        "elif is the combination of if+else = \"elif\" it functions just like if conditional statement but is only executed when if condition fails to satisfy the condition.\n",
        "\n",
        "In simple words we can say that it is used to add multiple pre-conditions within the code not merely just 1 or 2 conditions.\n",
        "\n",
        "```\n",
        "weather = \"sunny\"\n",
        "if weather == \"little cloudy\":\n",
        "    print(\"I'll go to play football\")\n",
        "elif weather == \"sunny\":\n",
        "    print(\"I'll go to club and play TT\")\n",
        "elif weather == \"rainy\":\n",
        "    print(\"I,ll stay indoor\")\n",
        "else:\n",
        "    print(\"I'll sleep\")\n",
        "```    \n",
        "        \n",
        "        "
      ],
      "metadata": {
        "id": "MGepmjAryzbS"
      }
    },
    {
      "cell_type": "markdown",
      "source": [
        "13.  What is the difference between for and while loops?\n",
        "\n",
        "*  *for loop* - used when you know how may times the block of code has to executed.\n",
        "\n",
        "```\n",
        "#syntax\n",
        "for condition in iterable:\n",
        "       do this\n",
        "```\n",
        "\n",
        "\n",
        "* *while loop* - used when you dont know how many times a block of code has to be executed so, you put condition, if the condition becomes false that the code breaks.\n",
        "\n",
        "```\n",
        "#syntax\n",
        "initialisation\n",
        "while condition:\n",
        "   do this\n",
        "   increment/decrement\n",
        "\n",
        "```   \n",
        "\n"
      ],
      "metadata": {
        "id": "tMvYmBABy29n"
      }
    },
    {
      "cell_type": "markdown",
      "source": [
        "14. Describe a scenario where a while loop is more suitable than a for loop.\n",
        "\n",
        "while loop is more sutaible than for loop when you don't know how many times you have to execute the code unlike for loop.\n",
        "\n",
        "eg: screen_password = \"ramesh@1234\"\n",
        "\n",
        "```\n",
        "screen_password = input(\"Please enter screen password: \")\n",
        "while screen_password != \"Ramesh@1234\":\n",
        "  print(\"Invalid password, enter the password again.\")\n",
        "  if screen_password != \"Ramesh@1234\":\n",
        "    break\n",
        "else:\n",
        "  print(\"Access granted, welcome.\")\n",
        "\n",
        "```"
      ],
      "metadata": {
        "id": "BJg2La_Xy6P2"
      }
    },
    {
      "cell_type": "markdown",
      "source": [
        "**Practical Questions**"
      ],
      "metadata": {
        "id": "bgAAIWbBzAWs"
      }
    },
    {
      "cell_type": "code",
      "execution_count": null,
      "metadata": {
        "id": "BXgoDbQiwfw7"
      },
      "outputs": [],
      "source": [
        " #1: Write a Python program to print \"Hello, World!\n",
        "\n",
        "text = \"Hello, World!\"\n",
        "print(text)"
      ]
    },
    {
      "cell_type": "code",
      "source": [
        "#2: Write a Python program that displays your name and age.\n",
        "name = input(\"NAME: \")\n",
        "age = input(\"AGE: \")"
      ],
      "metadata": {
        "id": "WyiXz6-XzGOM"
      },
      "execution_count": null,
      "outputs": []
    },
    {
      "cell_type": "code",
      "source": [
        "#3 Write code to print all the pre-defined keywords in Python using the keyword library.\n",
        "\n",
        "import keyword\n",
        "\n",
        "print(keyword.kwlist)\n",
        "print(len(keyword.kwlist))\n",
        "\n",
        "#or\n",
        "\n",
        "import keyword\n",
        "kw = (keyword.kwlist)\n",
        "\n",
        "for kw in (keyword.kwlist):\n",
        "  print(kw, end=\", \")"
      ],
      "metadata": {
        "id": "umXI3Z7KzQpk"
      },
      "execution_count": null,
      "outputs": []
    },
    {
      "cell_type": "code",
      "source": [
        "#4 Write a program that checks if a given word is a Python keyword.\n",
        "\n",
        "import keyword\n",
        "kw = (keyword.kwlist)\n",
        "print(kw)\n",
        "\n",
        "word = input(\"Enter python keyword: \")\n",
        "\n",
        "if keyword.iskeyword(word) :\n",
        "  print(\"Python keyword exists\")\n",
        "else:\n",
        "  print(\"Not existing python keyword\")\n"
      ],
      "metadata": {
        "id": "VGp3Jvg6zVBa"
      },
      "execution_count": null,
      "outputs": []
    },
    {
      "cell_type": "code",
      "source": [
        "#5 \"\"\"Create a list and tuple in Python, and demonstrate how attempting to change an element works differently for each.\"\"\"\n",
        "\n",
        "l=[10,20,\"pwskills\",\"rajesh\"]\n",
        "l[3]=\"ramesh\" #changing \"rajesh\" with \"ramesh\"\n",
        "print(l)\n",
        "\n",
        "\n",
        "print(\"=\"*70)\n",
        "\n",
        "t=(10,20,\"pwskills\",\"rajesh\")\n",
        "t[3]=\"ramesh\"\n",
        "print(t)  #tuple doesn't support item assignment."
      ],
      "metadata": {
        "id": "w05YYjCEzaIh"
      },
      "execution_count": null,
      "outputs": []
    },
    {
      "cell_type": "code",
      "source": [
        "#6 Write a function to demonstrate the behavior of mutable and immutable arguments.\n",
        "\n",
        "def change(num, my_list):\n",
        "    num += 10         # immutable\n",
        "    my_list.append(5) # mutable\n",
        "\n",
        "x = 5\n",
        "l = [1, 2, 3]\n",
        "\n",
        "print(\"Before:\", l)\n",
        "change(x, l)\n",
        "print(\"After: \", l)\n"
      ],
      "metadata": {
        "id": "_aW_sFuTzibR"
      },
      "execution_count": null,
      "outputs": []
    },
    {
      "cell_type": "code",
      "source": [
        "#7 Write a program that performs basic arithmetic operations on two user-input numbers.\n",
        "\n",
        "num1 = int(input(\"Enter your first number: \"))\n",
        "num2 = int(input(\"Enter your second number: \"))\n",
        "\n",
        "total = num1 + num2\n",
        "print(\"sum of num1 and num2 is:\", total)"
      ],
      "metadata": {
        "id": "SxIPiO9TzlK1"
      },
      "execution_count": null,
      "outputs": []
    },
    {
      "cell_type": "code",
      "source": [
        "#8 Write a program to demonstrate the use of logical operators.\n",
        "\n",
        "num1=20\n",
        "num2=26\n",
        "\n",
        "# for selecting pair of 2 numbers which are greater than 25.\n",
        "print(\"This pair is greater than 25: \", num1>25 and num2>25)\n",
        "\n",
        "#whether any one of the number in the given pair is greater than 25 or not.\n",
        "print(\"This pair is greater than 25: \", num1>25 or num2>25)\n",
        "\n",
        "#fake result: showing a number greater than 25 althought it is not.\n",
        "print(\"This number is greater than 25: \",not(num1>25))\n"
      ],
      "metadata": {
        "id": "bTVqLGmmzrJY"
      },
      "execution_count": null,
      "outputs": []
    },
    {
      "cell_type": "code",
      "source": [
        "#9  Write a Python program to convert user input from string to integer, float, and boolean types.\n",
        "\n",
        "password= int(input(\"Enter your 4 digit password: \"))\n",
        "print(password)\n",
        "print(type(password))\n",
        "\n",
        "#string to integer\n",
        "print(int(password))\n",
        "\n",
        "#str to float\n",
        "print(float(password))\n",
        "\n",
        "#str to boolean\n",
        "print(bool(password))"
      ],
      "metadata": {
        "id": "LIQHJ2eVzvOn"
      },
      "execution_count": null,
      "outputs": []
    },
    {
      "cell_type": "code",
      "source": [
        "#10 Write code to demonstrate type casting with list elements.\n",
        "\n",
        "l= [1,2,\"shivansh\",3.2,True]\n",
        "\n",
        "#changing data type of 3.3 from float to int\n",
        "l[3] = int(3.2)\n",
        "print(l)\n",
        "\n",
        "#changing data type of True from boolean to string\n",
        "l[4] = str(True)\n",
        "print(l)\n"
      ],
      "metadata": {
        "id": "rVc4pc-L0dS6"
      },
      "execution_count": null,
      "outputs": []
    },
    {
      "cell_type": "code",
      "source": [
        "#11 Write a program that checks if a number is positive, negative, or zero.\n",
        "\n",
        "num = int(input(\"Enter a number: \"))\n",
        "\n",
        "if num < 0:\n",
        "  print(\"It is a negative number\")\n",
        "elif num > 0:\n",
        "  print(\"It is a positive number\")\n",
        "else:\n",
        "  print(\"The number is 0\")"
      ],
      "metadata": {
        "id": "7vw0mWZ81nKD"
      },
      "execution_count": null,
      "outputs": []
    },
    {
      "cell_type": "code",
      "source": [
        "#12 Write a for loop to print numbers from 1 to 10.\n",
        "\n",
        "for num in range(1,11):\n",
        "  print(num, end=\" \")\n",
        "\n"
      ],
      "metadata": {
        "id": "EEkS8jpA2WQj"
      },
      "execution_count": null,
      "outputs": []
    },
    {
      "cell_type": "code",
      "source": [
        "#13 Write a Python program to find the sum of all even numbers between 1 and 50.\n",
        "\n",
        "total=0\n",
        "for sum in range(0,51):\n",
        "  if sum %2 == 0:\n",
        "    total+=sum\n",
        "print(\"sum of all even numbers between 1 to 50 is :\",total)\n",
        "\n"
      ],
      "metadata": {
        "id": "sVWdDJ8s2tdS"
      },
      "execution_count": null,
      "outputs": []
    },
    {
      "cell_type": "code",
      "source": [
        "#14 Write a program to reverse a string using a while loop.\n",
        "\n",
        "s= \"My name is shivansh yadav\"\n",
        "r=s[::-1]\n",
        "print(r)"
      ],
      "metadata": {
        "id": "a5TXfvdj34R1"
      },
      "execution_count": null,
      "outputs": []
    },
    {
      "cell_type": "code",
      "source": [
        "#15 Write a Python program to calculate the factorial of a number provided by the user using a while loop.\n",
        "n=int(input(\"enter the number who's factorial you want: \"))\n",
        "i=1\n",
        "f=1\n",
        "while i<=n:\n",
        "  f*=i\n",
        "  i+=1\n",
        "print(\"factorial of the number is: \",f)\n",
        "\n"
      ],
      "metadata": {
        "id": "uTBvnOf24Ods"
      },
      "execution_count": null,
      "outputs": []
    },
    {
      "cell_type": "code",
      "source": [
        "a=2\n",
        "a*=2\n",
        "print(a)"
      ],
      "metadata": {
        "id": "NvsjRHyr9uys"
      },
      "execution_count": null,
      "outputs": []
    }
  ]
}